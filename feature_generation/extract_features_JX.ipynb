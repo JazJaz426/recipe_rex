{
 "cells": [
  {
   "cell_type": "markdown",
   "metadata": {},
   "source": [
    "# Features\n",
    "- Presence of ingredient (0/1)\n",
    "- % nutrient (e.g. fat)\n",
    "\n",
    "# Preprocessing\n",
    "- Map all ingredients to a unique index\n",
    "\n",
    "- Map nutrient info to a category (high fat, high carb)\n",
    "\n",
    "- Map total time to category (fast, medium, slow)\n",
    "\n",
    "- Map cuisine to a unique index\n",
    "\n",
    "# Visualization\n",
    "- NA data distribution\n",
    "\n",
    "- Ingredients distribution\n",
    "\n",
    "- Time distribution by dataset\n",
    "\n",
    "- Nutrient info by dataset\n",
    "\n",
    "- Clustering, compared to title names"
   ]
  },
  {
   "cell_type": "code",
   "execution_count": 28,
   "metadata": {},
   "outputs": [
    {
     "name": "stdout",
     "output_type": "stream",
     "text": [
      "The autoreload extension is already loaded. To reload it, use:\n",
      "  %reload_ext autoreload\n"
     ]
    }
   ],
   "source": [
    "%load_ext autoreload\n",
    "%autoreload 2"
   ]
  },
  {
   "cell_type": "code",
   "execution_count": 29,
   "metadata": {},
   "outputs": [],
   "source": [
    "import pandas as pd\n",
    "import numpy as np\n",
    "from save_recipes import agg_data"
   ]
  },
  {
   "cell_type": "code",
   "execution_count": 42,
   "metadata": {},
   "outputs": [
    {
     "name": "stdout",
     "output_type": "stream",
     "text": [
      "61 datasets found\n",
      "61 0 0 0\n",
      "number of recipes 2046\n",
      "saving to clean_data/mains_url_index_mapping.csv\n",
      "\n",
      "saving to clean_data/mains_recipes_nutrient.csv\n"
     ]
    }
   ],
   "source": [
    "!python save_recipes.py"
   ]
  },
  {
   "cell_type": "code",
   "execution_count": 43,
   "metadata": {},
   "outputs": [
    {
     "name": "stdout",
     "output_type": "stream",
     "text": [
      "61 datasets found\n",
      "53 8 0 5\n",
      "number of recipes 1740\n",
      "number of recipes 362\n",
      "number of recipes 221\n",
      "saving to clean_data/mains_filter_url_index_mapping.csv\n",
      "\n",
      "saving to clean_data/mains_filter_recipes_nutrient.csv\n",
      "saving to clean_data/desserts_filter_url_index_mapping.csv\n",
      "\n",
      "saving to clean_data/desserts_filter_recipes_nutrient.csv\n",
      "saving to clean_data/sides_filter_url_index_mapping.csv\n",
      "\n",
      "saving to clean_data/sides_filter_recipes_nutrient.csv\n"
     ]
    }
   ],
   "source": [
    "!python save_recipes.py -f"
   ]
  },
  {
   "cell_type": "code",
   "execution_count": 2,
   "metadata": {},
   "outputs": [
    {
     "name": "stdout",
     "output_type": "stream",
     "text": [
      "saving to clean_data/nutrient_features.csv\n",
      "\n",
      "Using 498 unigrams that occur over 20 times\n",
      "Using 491 bigrams that occur over 20 times\n",
      "saving to clean_data/ing_features.csv\n",
      "\n",
      "loading nutrient and ingredients from csv\n",
      "saving to clean_data/embeddings_features_mvp.csv\n",
      "\n",
      "saving to clean_data/embeddings_mvp_scaled.csv\n",
      "\n"
     ]
    }
   ],
   "source": [
    "# !python get_embeddings.py"
   ]
  },
  {
   "cell_type": "code",
   "execution_count": 46,
   "metadata": {},
   "outputs": [],
   "source": [
    "main_recipes = pd.read_csv('../clean_data/mains_filter_recipes_nutrient.csv')"
   ]
  },
  {
   "cell_type": "code",
   "execution_count": 52,
   "metadata": {},
   "outputs": [],
   "source": [
    "import ast\n",
    "main_ing = main_recipes['ingredients'].apply(ast.literal_eval)"
   ]
  },
  {
   "cell_type": "code",
   "execution_count": 56,
   "metadata": {},
   "outputs": [
    {
     "name": "stdout",
     "output_type": "stream",
     "text": [
      "\n",
      "4 chicken breasts (boneless but with the skin)\n",
      "3 tbsp white miso (- look for shiro miso)\n",
      "2 tbsp sake\n",
      "2 tbsp mirin\n",
      "1 tbsp maple syrup\n",
      "1 tbsp vegetable oil\n",
      "2 tsp sesame oil\n",
      "1 tsp ginger (grated. A micro-plane works well.)\n",
      "sesame seeds, chives or green onions to garnish\n",
      "\n",
      "8 cups tonkotsu pork broth ( - recipe link below)\n",
      "12 oz good quality dried ramen noodles\n",
      "4 large or extra large eggs\n",
      "2-3 oz enoki or other mushrooms\n",
      "thinly sliced green onions\n",
      "2 lb pork belly ( - rolled and tied)\n",
      "1/4 cup soy sauce\n",
      "1/2 cup sake\n",
      "1/2 cup mirin ( - sweet Japanese wine)\n",
      "1/4 cup sugar\n",
      "2-3 cloves garlic ( - left whole)\n",
      "2 green onions ( - coarsely chopped)\n",
      "2 slices bacon ( - use good quality bacon here)\n",
      "1/4 cup soy sauce\n",
      "2 Tbsp mirin\n",
      "2 Tbsp sake\n",
      "4 Tbsp shiro miso\n",
      "1/2 cup shiro miso\n",
      "1/4 cup sake\n",
      "1/4 cup mirin\n",
      "pinch shichimi togarashi ((optional))\n",
      "1-2 tsp kosher salt ( - depending on how salty you like your ramen.)\n",
      "\n",
      "1/2 cup soy sauce\n",
      "2 Tbsp sake\n",
      "2 Tbsp grated ginger ( - use a microplane)\n",
      "3 cloves garlic ( - again a microplane works great)\n",
      "2 tsp asian hot sauce - Korean gochujang or Sriracha\n",
      "2 Tbsp brown sugar\n",
      "1 chicken cut into pieces ( - or halved - whatever you like)\n",
      "\n",
      "6 lbs pork bones (with a little meat on them. Pork neck bones work well.)\n",
      "4 oz white mushrooms (sliced)\n",
      "1 onion (peeled and halved)\n",
      "\n",
      "1 lb chicken thighs (boneless, skinless and cut into bite size pieces)\n",
      "1 large onion (about 8 oz sliced)\n",
      "8 oz carrots (cut rangiri style (see above) if you want )\n",
      "12 oz waxy potatoes (cut into bite size chunks)\n",
      "6 tbsp butter (total)\n",
      "2 cloves garlic (crushed)\n",
      "1/2 inch piece of fresh ginger (grated)\n",
      "4 cups chicken stock (low or no sodium or really plain homemade (just chicken and water - no fancy aromatics))\n",
      "3 tbsp Japanese curry powder (I use S&B brand)\n",
      "1 tsp garam masala\n",
      "4 tbsp flour\n",
      "2 tsp salt (plus more to taste)\n",
      "1-2 tbsp tonkotsu sauce\n"
     ]
    }
   ],
   "source": [
    "for ing in main_ing[:5]:\n",
    "    print()\n",
    "    for i in ing:\n",
    "        print(i)"
   ]
  },
  {
   "cell_type": "code",
   "execution_count": 355,
   "metadata": {},
   "outputs": [],
   "source": [
    "from get_recommendations_knn import process_embeddings\n",
    "embeddings_df_scaled = process_embeddings()"
   ]
  },
  {
   "cell_type": "code",
   "execution_count": 356,
   "metadata": {},
   "outputs": [
    {
     "data": {
      "text/html": [
       "<div>\n",
       "<style scoped>\n",
       "    .dataframe tbody tr th:only-of-type {\n",
       "        vertical-align: middle;\n",
       "    }\n",
       "\n",
       "    .dataframe tbody tr th {\n",
       "        vertical-align: top;\n",
       "    }\n",
       "\n",
       "    .dataframe thead th {\n",
       "        text-align: right;\n",
       "    }\n",
       "</style>\n",
       "<table border=\"1\" class=\"dataframe\">\n",
       "  <thead>\n",
       "    <tr style=\"text-align: right;\">\n",
       "      <th></th>\n",
       "      <th>0</th>\n",
       "      <th>1</th>\n",
       "      <th>2</th>\n",
       "      <th>3</th>\n",
       "      <th>4</th>\n",
       "      <th>5</th>\n",
       "      <th>6</th>\n",
       "      <th>7</th>\n",
       "      <th>8</th>\n",
       "      <th>9</th>\n",
       "    </tr>\n",
       "  </thead>\n",
       "  <tbody>\n",
       "    <tr>\n",
       "      <th>count</th>\n",
       "      <td>1.287000e+03</td>\n",
       "      <td>1.287000e+03</td>\n",
       "      <td>1.287000e+03</td>\n",
       "      <td>1.287000e+03</td>\n",
       "      <td>1.287000e+03</td>\n",
       "      <td>1.287000e+03</td>\n",
       "      <td>1.287000e+03</td>\n",
       "      <td>1.287000e+03</td>\n",
       "      <td>1.287000e+03</td>\n",
       "      <td>1.287000e+03</td>\n",
       "    </tr>\n",
       "    <tr>\n",
       "      <th>mean</th>\n",
       "      <td>-1.874883e-16</td>\n",
       "      <td>-1.656277e-17</td>\n",
       "      <td>-3.803398e-16</td>\n",
       "      <td>-1.134916e-17</td>\n",
       "      <td>1.414736e-17</td>\n",
       "      <td>1.231856e-16</td>\n",
       "      <td>1.330197e-16</td>\n",
       "      <td>1.458214e-15</td>\n",
       "      <td>4.977457e-17</td>\n",
       "      <td>-1.302420e-15</td>\n",
       "    </tr>\n",
       "    <tr>\n",
       "      <th>std</th>\n",
       "      <td>1.000389e+00</td>\n",
       "      <td>1.000389e+00</td>\n",
       "      <td>1.000389e+00</td>\n",
       "      <td>1.000389e+00</td>\n",
       "      <td>1.000389e+00</td>\n",
       "      <td>1.000389e+00</td>\n",
       "      <td>1.000389e+00</td>\n",
       "      <td>1.000389e+00</td>\n",
       "      <td>1.000389e+00</td>\n",
       "      <td>1.000389e+00</td>\n",
       "    </tr>\n",
       "    <tr>\n",
       "      <th>min</th>\n",
       "      <td>-2.361155e+00</td>\n",
       "      <td>-1.973806e+00</td>\n",
       "      <td>-1.860859e+00</td>\n",
       "      <td>-2.243552e+00</td>\n",
       "      <td>-2.736388e+00</td>\n",
       "      <td>-5.752568e-01</td>\n",
       "      <td>-5.537138e-01</td>\n",
       "      <td>-5.728642e-01</td>\n",
       "      <td>-4.750940e-01</td>\n",
       "      <td>-5.513178e-01</td>\n",
       "    </tr>\n",
       "    <tr>\n",
       "      <th>25%</th>\n",
       "      <td>-7.608666e-01</td>\n",
       "      <td>-8.946493e-01</td>\n",
       "      <td>-5.307183e-01</td>\n",
       "      <td>-7.829676e-01</td>\n",
       "      <td>-6.083876e-01</td>\n",
       "      <td>-5.752568e-01</td>\n",
       "      <td>-5.537138e-01</td>\n",
       "      <td>-5.728642e-01</td>\n",
       "      <td>-4.750940e-01</td>\n",
       "      <td>-5.513178e-01</td>\n",
       "    </tr>\n",
       "    <tr>\n",
       "      <th>50%</th>\n",
       "      <td>-2.190336e-02</td>\n",
       "      <td>5.491257e-02</td>\n",
       "      <td>-1.623655e-01</td>\n",
       "      <td>-1.013753e-01</td>\n",
       "      <td>-8.358181e-02</td>\n",
       "      <td>-5.752568e-01</td>\n",
       "      <td>-5.537138e-01</td>\n",
       "      <td>-5.728642e-01</td>\n",
       "      <td>-4.750940e-01</td>\n",
       "      <td>-5.513178e-01</td>\n",
       "    </tr>\n",
       "    <tr>\n",
       "      <th>75%</th>\n",
       "      <td>8.564158e-01</td>\n",
       "      <td>7.770790e-01</td>\n",
       "      <td>2.438901e-01</td>\n",
       "      <td>6.183815e-01</td>\n",
       "      <td>5.157435e-01</td>\n",
       "      <td>-5.752568e-01</td>\n",
       "      <td>-5.537138e-01</td>\n",
       "      <td>-5.728642e-01</td>\n",
       "      <td>-4.750940e-01</td>\n",
       "      <td>-5.513178e-01</td>\n",
       "    </tr>\n",
       "    <tr>\n",
       "      <th>max</th>\n",
       "      <td>3.797664e+00</td>\n",
       "      <td>3.177098e+00</td>\n",
       "      <td>4.621813e+00</td>\n",
       "      <td>3.290873e+00</td>\n",
       "      <td>3.780280e+00</td>\n",
       "      <td>1.738354e+00</td>\n",
       "      <td>1.805987e+00</td>\n",
       "      <td>1.745614e+00</td>\n",
       "      <td>2.104847e+00</td>\n",
       "      <td>1.813836e+00</td>\n",
       "    </tr>\n",
       "  </tbody>\n",
       "</table>\n",
       "</div>"
      ],
      "text/plain": [
       "                  0             1             2             3             4  \\\n",
       "count  1.287000e+03  1.287000e+03  1.287000e+03  1.287000e+03  1.287000e+03   \n",
       "mean  -1.874883e-16 -1.656277e-17 -3.803398e-16 -1.134916e-17  1.414736e-17   \n",
       "std    1.000389e+00  1.000389e+00  1.000389e+00  1.000389e+00  1.000389e+00   \n",
       "min   -2.361155e+00 -1.973806e+00 -1.860859e+00 -2.243552e+00 -2.736388e+00   \n",
       "25%   -7.608666e-01 -8.946493e-01 -5.307183e-01 -7.829676e-01 -6.083876e-01   \n",
       "50%   -2.190336e-02  5.491257e-02 -1.623655e-01 -1.013753e-01 -8.358181e-02   \n",
       "75%    8.564158e-01  7.770790e-01  2.438901e-01  6.183815e-01  5.157435e-01   \n",
       "max    3.797664e+00  3.177098e+00  4.621813e+00  3.290873e+00  3.780280e+00   \n",
       "\n",
       "                  5             6             7             8             9  \n",
       "count  1.287000e+03  1.287000e+03  1.287000e+03  1.287000e+03  1.287000e+03  \n",
       "mean   1.231856e-16  1.330197e-16  1.458214e-15  4.977457e-17 -1.302420e-15  \n",
       "std    1.000389e+00  1.000389e+00  1.000389e+00  1.000389e+00  1.000389e+00  \n",
       "min   -5.752568e-01 -5.537138e-01 -5.728642e-01 -4.750940e-01 -5.513178e-01  \n",
       "25%   -5.752568e-01 -5.537138e-01 -5.728642e-01 -4.750940e-01 -5.513178e-01  \n",
       "50%   -5.752568e-01 -5.537138e-01 -5.728642e-01 -4.750940e-01 -5.513178e-01  \n",
       "75%   -5.752568e-01 -5.537138e-01 -5.728642e-01 -4.750940e-01 -5.513178e-01  \n",
       "max    1.738354e+00  1.805987e+00  1.745614e+00  2.104847e+00  1.813836e+00  "
      ]
     },
     "execution_count": 356,
     "metadata": {},
     "output_type": "execute_result"
    }
   ],
   "source": [
    "embeddings_df_scaled.describe()"
   ]
  }
 ],
 "metadata": {
  "kernelspec": {
   "display_name": "Python 3",
   "language": "python",
   "name": "python3"
  },
  "language_info": {
   "codemirror_mode": {
    "name": "ipython",
    "version": 3
   },
   "file_extension": ".py",
   "mimetype": "text/x-python",
   "name": "python",
   "nbconvert_exporter": "python",
   "pygments_lexer": "ipython3",
   "version": "3.8.5"
  }
 },
 "nbformat": 4,
 "nbformat_minor": 4
}
