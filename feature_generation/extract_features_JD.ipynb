{
 "cells": [
  {
   "cell_type": "code",
   "execution_count": 42,
   "metadata": {},
   "outputs": [],
   "source": [
    "%load_ext autoreload\n",
    "%autoreload 2"
   ]
  },
  {
   "cell_type": "code",
   "execution_count": 122,
   "metadata": {},
   "outputs": [],
   "source": [
    "import pandas as pd\n",
    "import numpy as np\n",
    "from save_recipes import agg_data\n",
    "import featurize_ingredients as fti\n",
    "import matplotlib.pyplot as plt\n",
    "import pigeonXT as pixt\n",
    "import pickle\n",
    "import fasttext.util\n",
    "import fasttext\n",
    "from tqdm import tqdm"
   ]
  },
  {
   "cell_type": "markdown",
   "metadata": {},
   "source": [
    "## Read in data and label non ingredient grams"
   ]
  },
  {
   "cell_type": "code",
   "execution_count": null,
   "metadata": {},
   "outputs": [],
   "source": [
    "# !python save_recipes.py\n",
    "# !python get_embeddings.py"
   ]
  },
  {
   "cell_type": "code",
   "execution_count": 2,
   "metadata": {},
   "outputs": [
    {
     "name": "stdout",
     "output_type": "stream",
     "text": [
      "Using 498 unigrams that occur over 20 times\n",
      "Using 491 bigrams that occur over 20 times\n"
     ]
    }
   ],
   "source": [
    "dataset = pd.read_csv(\"../clean_data/all/all_recipes_nutrient.csv\")\n",
    "top_unigram_cts, top_bigram_cts, gram2idx = fti.choose_top_grams(dataset) \n",
    "\n",
    "# Encode unigram/bigram ingredient vectors for each recipe\n",
    "ing_features = np.array([\n",
    "        fti.one_hot_encode_raw_ingrs(ingrs, gram2idx)\n",
    "        for ingrs in dataset[\"ingredients\"]\n",
    "    ])\n",
    "\n",
    "ing_df = pd.DataFrame(ing_features, index = dataset['url'])"
   ]
  },
  {
   "cell_type": "code",
   "execution_count": 14,
   "metadata": {},
   "outputs": [
    {
     "data": {
      "image/png": "[encoded data removed]",
      "text/plain": [
       "<Figure size 432x288 with 2 Axes>"
      ]
     },
     "metadata": {
      "needs_background": "light"
     },
     "output_type": "display_data"
    }
   ],
   "source": [
    "# Plot top occurring ingredients (long tail unploted)\n",
    "fig, axs = plt.subplots(2,1, sharex=True)\n",
    "axs[0].set_xlim([0,250])\n",
    "_ = axs[0].hist(top_unigram_cts.values(), bins=400)\n",
    "_ = axs[1].hist(top_bigram_cts.values(), bins=200)"
   ]
  },
  {
   "cell_type": "code",
   "execution_count": 3,
   "metadata": {},
   "outputs": [],
   "source": [
    "# Find all noisy unigrams and bigrams\n",
    "def get_sorted_grams(gram_cts: dict):\n",
    "    sorted_grams = {}\n",
    "    for ingr, ct in gram_cts.items():\n",
    "        if ct in sorted_grams:\n",
    "            sorted_grams[ct].append(ingr)\n",
    "        else:\n",
    "            sorted_grams[ct] = [ingr]\n",
    "    \n",
    "    sorted_cts = list(sorted_grams.keys())\n",
    "    sorted_cts.sort(reverse=True)\n",
    "    sorted_grams_list = []\n",
    "    for ct in sorted_cts:\n",
    "        sorted_grams_list.extend(sorted_grams[ct])\n",
    "    \n",
    "    return sorted_grams_list"
   ]
  },
  {
   "cell_type": "code",
   "execution_count": 35,
   "metadata": {},
   "outputs": [
    {
     "data": {
      "application/vnd.jupyter.widget-view+json": {
       "model_id": "b7d215749ede43c98064caef5aa7843d",
       "version_major": 2,
       "version_minor": 0
      },
      "text/plain": [
       "HTML(value='0 of 498 Examples annotated, Current Position: 0 ')"
      ]
     },
     "metadata": {},
     "output_type": "display_data"
    },
    {
     "data": {
      "application/vnd.jupyter.widget-view+json": {
       "model_id": "e49a19c0b42342d683e68c3f9b9b6e3b",
       "version_major": 2,
       "version_minor": 0
      },
      "text/plain": [
       "VBox(children=(HBox(children=(Button(description='0', style=ButtonStyle()),)), HBox(children=(Button(descripti…"
      ]
     },
     "metadata": {},
     "output_type": "display_data"
    },
    {
     "data": {
      "application/vnd.jupyter.widget-view+json": {
       "model_id": "c229836c3ccf4f078e9988acd9c49455",
       "version_major": 2,
       "version_minor": 0
      },
      "text/plain": [
       "Output()"
      ]
     },
     "metadata": {},
     "output_type": "display_data"
    }
   ],
   "source": [
    "# Label grams to exclude\n",
    "unigram_annos = pixt.annotate(\n",
    "                    get_sorted_grams(top_unigram_cts),\n",
    "                    options=['0', '1'], # 0/1 means non-ing/ing\n",
    "                    buttons_in_a_row=1,\n",
    "                    include_skip=False,\n",
    "                    include_back=True,\n",
    "                    )"
   ]
  },
  {
   "cell_type": "code",
   "execution_count": 36,
   "metadata": {},
   "outputs": [],
   "source": [
    "# Bigram edge cases\n",
    "# 1: dark soy, oil canola, ground pork, flavored oil, granulated sugar, pepper powder\n",
    "# 1: large eggs, large egg; Shaoxing wine, shaoxing wine; oil canola, canola oil;\n",
    "# warm water, hot water, cold water, boiling water; powdered sugar, rock sugar, confectioners’ sugar\n",
    "# 0: clove garlic\n",
    "\n",
    "def save_annotations_dict(annotations, file_path):\n",
    "    with open(file_path, \"wb\") as f:\n",
    "        pickle.dump(annotations, f)\n",
    "\n",
    "save_annotations_dict(annotations, \"../clean_data/all/non_ing_bigrams_dict.pkl\")\n",
    "save_annotations_dict(unigram_annos, \"../clean_data/all/non_ing_unigrams_dict.pkl\")"
   ]
  },
  {
   "cell_type": "code",
   "execution_count": 39,
   "metadata": {},
   "outputs": [
    {
     "name": "stdout",
     "output_type": "stream",
     "text": [
      "491\n"
     ]
    }
   ],
   "source": [
    "with open(\"../clean_data/all/non_ing_bigrams_dict.pkl\", \"rb\") as f:\n",
    "    foo = pickle.load(f)\n",
    "    \n",
    "print(len(foo))"
   ]
  },
  {
   "cell_type": "markdown",
   "metadata": {},
   "source": [
    "## Convert each ingredient gram to an embedding"
   ]
  },
  {
   "cell_type": "code",
   "execution_count": 54,
   "metadata": {},
   "outputs": [
    {
     "name": "stdout",
     "output_type": "stream",
     "text": [
      "Using 498 unigrams that occur over 20 times\n",
      "Using 491 bigrams that occur over 20 times\n",
      "loaded grams to exclude from ../clean_data/all/non_ing_unigrams_dict.pkl\n",
      "pruned 498 grams, left with 159 ingredient grams\n",
      "loaded grams to exclude from ../clean_data/all/non_ing_bigrams_dict.pkl\n",
      "pruned 491 grams, left with 160 ingredient grams\n"
     ]
    }
   ],
   "source": [
    "top_ing_unigrams, top_ing_bigrams, grams2idx = fti.choose_top_grams(dataset, exclude_non_ing=True)"
   ]
  },
  {
   "cell_type": "code",
   "execution_count": 186,
   "metadata": {},
   "outputs": [
    {
     "name": "stdout",
     "output_type": "stream",
     "text": [
      "Using 498 unigrams that occur over 20 times\n",
      "Using 491 bigrams that occur over 20 times\n",
      "Loaded non ingredient grams to filter out from ../clean_data/all/non_ing_unigrams_dict.pkl\n",
      "Left with 159 ingredient grams / 498 total grams\n",
      "Loaded non ingredient grams to filter out from ../clean_data/all/non_ing_bigrams_dict.pkl\n",
      "Left with 160 ingredient grams / 491 total grams\n",
      "Loading model into memory ... \n"
     ]
    },
    {
     "name": "stderr",
     "output_type": "stream",
     "text": [
      "Warning : `load_model` does not return WordVectorModel or SupervisedModel any more, but a `FastText` object which is very similar.\n"
     ]
    },
    {
     "name": "stdout",
     "output_type": "stream",
     "text": [
      "Loaded model in  0.55 min\n",
      "saving to clean_data/all/ing_features.csv\n",
      "\n"
     ]
    },
    {
     "data": {
      "text/html": [
       "<div>\n",
       "<style scoped>\n",
       "    .dataframe tbody tr th:only-of-type {\n",
       "        vertical-align: middle;\n",
       "    }\n",
       "\n",
       "    .dataframe tbody tr th {\n",
       "        vertical-align: top;\n",
       "    }\n",
       "\n",
       "    .dataframe thead th {\n",
       "        text-align: right;\n",
       "    }\n",
       "</style>\n",
       "<table border=\"1\" class=\"dataframe\">\n",
       "  <thead>\n",
       "    <tr style=\"text-align: right;\">\n",
       "      <th></th>\n",
       "      <th>0</th>\n",
       "      <th>1</th>\n",
       "      <th>2</th>\n",
       "      <th>3</th>\n",
       "      <th>4</th>\n",
       "      <th>5</th>\n",
       "      <th>6</th>\n",
       "      <th>7</th>\n",
       "      <th>8</th>\n",
       "      <th>9</th>\n",
       "    </tr>\n",
       "  </thead>\n",
       "  <tbody>\n",
       "    <tr>\n",
       "      <th>https://glebekitchen.com/miso-chicken-with-maple-and-ginger/</th>\n",
       "      <td>-0.030270</td>\n",
       "      <td>-0.055893</td>\n",
       "      <td>-0.017842</td>\n",
       "      <td>-0.026782</td>\n",
       "      <td>0.027044</td>\n",
       "      <td>-0.033880</td>\n",
       "      <td>0.029945</td>\n",
       "      <td>0.008558</td>\n",
       "      <td>0.015077</td>\n",
       "      <td>0.022074</td>\n",
       "    </tr>\n",
       "    <tr>\n",
       "      <th>https://glebekitchen.com/tonkotsu-ramen-home/</th>\n",
       "      <td>-0.042640</td>\n",
       "      <td>-0.070331</td>\n",
       "      <td>-0.021128</td>\n",
       "      <td>-0.035811</td>\n",
       "      <td>0.034822</td>\n",
       "      <td>-0.033868</td>\n",
       "      <td>0.033495</td>\n",
       "      <td>-0.000416</td>\n",
       "      <td>0.000641</td>\n",
       "      <td>0.019840</td>\n",
       "    </tr>\n",
       "    <tr>\n",
       "      <th>https://glebekitchen.com/garlic-ginger-grilled-chicken/</th>\n",
       "      <td>-0.023229</td>\n",
       "      <td>-0.026423</td>\n",
       "      <td>-0.015147</td>\n",
       "      <td>-0.022531</td>\n",
       "      <td>0.022939</td>\n",
       "      <td>-0.015396</td>\n",
       "      <td>0.019490</td>\n",
       "      <td>0.002378</td>\n",
       "      <td>0.001663</td>\n",
       "      <td>0.007099</td>\n",
       "    </tr>\n",
       "    <tr>\n",
       "      <th>https://glebekitchen.com/tonkotsu-ramen-broth-home/</th>\n",
       "      <td>0.000970</td>\n",
       "      <td>-0.063905</td>\n",
       "      <td>-0.042373</td>\n",
       "      <td>-0.026290</td>\n",
       "      <td>0.019207</td>\n",
       "      <td>-0.034303</td>\n",
       "      <td>0.053536</td>\n",
       "      <td>0.009052</td>\n",
       "      <td>0.023898</td>\n",
       "      <td>0.049634</td>\n",
       "    </tr>\n",
       "    <tr>\n",
       "      <th>https://glebekitchen.com/japanese-chicken-curry-curry-rice/</th>\n",
       "      <td>-0.041986</td>\n",
       "      <td>-0.056194</td>\n",
       "      <td>-0.018283</td>\n",
       "      <td>-0.028208</td>\n",
       "      <td>0.035671</td>\n",
       "      <td>-0.014228</td>\n",
       "      <td>0.031947</td>\n",
       "      <td>-0.001215</td>\n",
       "      <td>-0.005356</td>\n",
       "      <td>0.007310</td>\n",
       "    </tr>\n",
       "  </tbody>\n",
       "</table>\n",
       "</div>"
      ],
      "text/plain": [
       "                                                           0         1  \\\n",
       "https://glebekitchen.com/miso-chicken-with-mapl... -0.030270 -0.055893   \n",
       "https://glebekitchen.com/tonkotsu-ramen-home/      -0.042640 -0.070331   \n",
       "https://glebekitchen.com/garlic-ginger-grilled-... -0.023229 -0.026423   \n",
       "https://glebekitchen.com/tonkotsu-ramen-broth-h...  0.000970 -0.063905   \n",
       "https://glebekitchen.com/japanese-chicken-curry... -0.041986 -0.056194   \n",
       "\n",
       "                                                           2         3  \\\n",
       "https://glebekitchen.com/miso-chicken-with-mapl... -0.017842 -0.026782   \n",
       "https://glebekitchen.com/tonkotsu-ramen-home/      -0.021128 -0.035811   \n",
       "https://glebekitchen.com/garlic-ginger-grilled-... -0.015147 -0.022531   \n",
       "https://glebekitchen.com/tonkotsu-ramen-broth-h... -0.042373 -0.026290   \n",
       "https://glebekitchen.com/japanese-chicken-curry... -0.018283 -0.028208   \n",
       "\n",
       "                                                           4         5  \\\n",
       "https://glebekitchen.com/miso-chicken-with-mapl...  0.027044 -0.033880   \n",
       "https://glebekitchen.com/tonkotsu-ramen-home/       0.034822 -0.033868   \n",
       "https://glebekitchen.com/garlic-ginger-grilled-...  0.022939 -0.015396   \n",
       "https://glebekitchen.com/tonkotsu-ramen-broth-h...  0.019207 -0.034303   \n",
       "https://glebekitchen.com/japanese-chicken-curry...  0.035671 -0.014228   \n",
       "\n",
       "                                                           6         7  \\\n",
       "https://glebekitchen.com/miso-chicken-with-mapl...  0.029945  0.008558   \n",
       "https://glebekitchen.com/tonkotsu-ramen-home/       0.033495 -0.000416   \n",
       "https://glebekitchen.com/garlic-ginger-grilled-...  0.019490  0.002378   \n",
       "https://glebekitchen.com/tonkotsu-ramen-broth-h...  0.053536  0.009052   \n",
       "https://glebekitchen.com/japanese-chicken-curry...  0.031947 -0.001215   \n",
       "\n",
       "                                                           8         9  \n",
       "https://glebekitchen.com/miso-chicken-with-mapl...  0.015077  0.022074  \n",
       "https://glebekitchen.com/tonkotsu-ramen-home/       0.000641  0.019840  \n",
       "https://glebekitchen.com/garlic-ginger-grilled-...  0.001663  0.007099  \n",
       "https://glebekitchen.com/tonkotsu-ramen-broth-h...  0.023898  0.049634  \n",
       "https://glebekitchen.com/japanese-chicken-curry... -0.005356  0.007310  "
      ]
     },
     "execution_count": 186,
     "metadata": {},
     "output_type": "execute_result"
    }
   ],
   "source": [
    "ing_df = fti.featurize_ingredients(dataset, save=True, embedding_dim=10)\n",
    "ing_df.head()"
   ]
  },
  {
   "cell_type": "code",
   "execution_count": 164,
   "metadata": {},
   "outputs": [],
   "source": [
    "ing_gram_cts = {\n",
    "        gram : ct \n",
    "        for gram, ct in \n",
    "        list(ing_unigram_cts.items()) + list(ing_bigram_cts.items())\n",
    "    }"
   ]
  },
  {
   "cell_type": "code",
   "execution_count": 149,
   "metadata": {},
   "outputs": [
    {
     "data": {
      "text/html": [
       "<div>\n",
       "<style scoped>\n",
       "    .dataframe tbody tr th:only-of-type {\n",
       "        vertical-align: middle;\n",
       "    }\n",
       "\n",
       "    .dataframe tbody tr th {\n",
       "        vertical-align: top;\n",
       "    }\n",
       "\n",
       "    .dataframe thead th {\n",
       "        text-align: right;\n",
       "    }\n",
       "</style>\n",
       "<table border=\"1\" class=\"dataframe\">\n",
       "  <thead>\n",
       "    <tr style=\"text-align: right;\">\n",
       "      <th></th>\n",
       "      <th>0</th>\n",
       "      <th>1</th>\n",
       "      <th>2</th>\n",
       "      <th>3</th>\n",
       "      <th>4</th>\n",
       "      <th>5</th>\n",
       "      <th>6</th>\n",
       "      <th>7</th>\n",
       "      <th>8</th>\n",
       "      <th>9</th>\n",
       "      <th>...</th>\n",
       "      <th>290</th>\n",
       "      <th>291</th>\n",
       "      <th>292</th>\n",
       "      <th>293</th>\n",
       "      <th>294</th>\n",
       "      <th>295</th>\n",
       "      <th>296</th>\n",
       "      <th>297</th>\n",
       "      <th>298</th>\n",
       "      <th>299</th>\n",
       "    </tr>\n",
       "  </thead>\n",
       "  <tbody>\n",
       "    <tr>\n",
       "      <th>https://www.eatingthaifood.com/toasted-rice-powder-recipe/</th>\n",
       "      <td>0.0</td>\n",
       "      <td>0.0</td>\n",
       "      <td>0.0</td>\n",
       "      <td>0.0</td>\n",
       "      <td>0.0</td>\n",
       "      <td>0.0</td>\n",
       "      <td>0.0</td>\n",
       "      <td>0.0</td>\n",
       "      <td>0.0</td>\n",
       "      <td>0.0</td>\n",
       "      <td>...</td>\n",
       "      <td>0.0</td>\n",
       "      <td>0.0</td>\n",
       "      <td>0.0</td>\n",
       "      <td>0.0</td>\n",
       "      <td>0.0</td>\n",
       "      <td>0.0</td>\n",
       "      <td>0.0</td>\n",
       "      <td>0.0</td>\n",
       "      <td>0.0</td>\n",
       "      <td>0.0</td>\n",
       "    </tr>\n",
       "  </tbody>\n",
       "</table>\n",
       "<p>1 rows × 300 columns</p>\n",
       "</div>"
      ],
      "text/plain": [
       "                                                    0    1    2    3    4    \\\n",
       "https://www.eatingthaifood.com/toasted-rice-pow...  0.0  0.0  0.0  0.0  0.0   \n",
       "\n",
       "                                                    5    6    7    8    9    \\\n",
       "https://www.eatingthaifood.com/toasted-rice-pow...  0.0  0.0  0.0  0.0  0.0   \n",
       "\n",
       "                                                    ...  290  291  292  293  \\\n",
       "https://www.eatingthaifood.com/toasted-rice-pow...  ...  0.0  0.0  0.0  0.0   \n",
       "\n",
       "                                                    294  295  296  297  298  \\\n",
       "https://www.eatingthaifood.com/toasted-rice-pow...  0.0  0.0  0.0  0.0  0.0   \n",
       "\n",
       "                                                    299  \n",
       "https://www.eatingthaifood.com/toasted-rice-pow...  0.0  \n",
       "\n",
       "[1 rows x 300 columns]"
      ]
     },
     "execution_count": 149,
     "metadata": {},
     "output_type": "execute_result"
    }
   ],
   "source": [
    "# Check: entirely non-ingredient ingredient lists are zero'd out\n",
    "ing_df[ing_df.index == \"https://www.eatingthaifood.com/toasted-rice-powder-recipe/\"]"
   ]
  },
  {
   "cell_type": "code",
   "execution_count": 188,
   "metadata": {},
   "outputs": [
    {
     "data": {
      "text/plain": [
       "[<matplotlib.lines.Line2D at 0x7fdfa4849c10>]"
      ]
     },
     "execution_count": 188,
     "metadata": {},
     "output_type": "execute_result"
    },
    {
     "data": {
      "image/png": "[encoded data removed]",
      "text/plain": [
       "<Figure size 432x288 with 1 Axes>"
      ]
     },
     "metadata": {
      "needs_background": "light"
     },
     "output_type": "display_data"
    }
   ],
   "source": [
    "u, s, vh = np.linalg.svd(ing_df.to_numpy()) # s is an array of singular values\n",
    "plt.plot(range(1,len(s)), s[1:])\n",
    "# num_svals = int(len(s)/5)\n",
    "# plt.plot(range(1, num_svals), s[1:num_svals])"
   ]
  },
  {
   "cell_type": "code",
   "execution_count": 184,
   "metadata": {},
   "outputs": [
    {
     "data": {
      "text/plain": [
       "[<matplotlib.lines.Line2D at 0x7fdfa47382d0>]"
      ]
     },
     "execution_count": 184,
     "metadata": {},
     "output_type": "execute_result"
    },
    {
     "data": {
      "image/png": "[encoded data removed]",
      "text/plain": [
       "<Figure size 432x288 with 1 Axes>"
      ]
     },
     "metadata": {
      "needs_background": "light"
     },
     "output_type": "display_data"
    }
   ],
   "source": [
    "# Experiment: number of dimensions to reduce to\n",
    "# 10 and 20 looks like a good cutoff\n",
    "u, s, vh = np.linalg.svd(ing_df.to_numpy()) # s is an array of singular values\n",
    "num_svals = int(len(s)/5)\n",
    "plt.plot(range(1, num_svals), s[1:num_svals])"
   ]
  },
  {
   "cell_type": "code",
   "execution_count": null,
   "metadata": {},
   "outputs": [],
   "source": [
    "# Experiment: surface rarest ingredients\n",
    "# It's pretty good! regularly unigrams repeat in bigrams. exclude at display time\n",
    "rarest_ings = {}\n",
    "ct = 0\n",
    "for url, raw_ingrs in zip(dataset.url, dataset.ingredients):\n",
    "    grams = fti.extract_ing_grams(raw_ingrs, all_ing_grams)\n",
    "    freqs = [ing_gram_cts[gram] for gram in grams]\n",
    "    \n",
    "    num_rare_grams = 5\n",
    "    rare_gram_idxs = np.argsort(freqs)[:num_rare_grams]\n",
    "\n",
    "    rarest_ings[url] = {\n",
    "        \"rare\": np.array(grams)[rare_gram_idxs],\n",
    "        \"all\": grams,\n",
    "    }\n",
    "    \n",
    "    print(url)\n",
    "    print(rarest_ings[url][\"rare\"])\n",
    "    print(rarest_ings[url][\"all\"])\n",
    "    "
   ]
  },
  {
   "cell_type": "markdown",
   "metadata": {},
   "source": [
    "## Former data aggregation workflow"
   ]
  },
  {
   "cell_type": "code",
   "execution_count": null,
   "metadata": {},
   "outputs": [],
   "source": [
    "all_dfs_nutrient = agg_data()\n",
    "# all_dfs_nutrient = pd.read_csv(\"clean_data/all_recipes_nutrient.csv\")\n",
    "all_dfs_nutrient.columns"
   ]
  },
  {
   "cell_type": "code",
   "execution_count": 11,
   "metadata": {},
   "outputs": [
    {
     "name": "stdout",
     "output_type": "stream",
     "text": [
      "Number of ingredient grams per recipe\n"
     ]
    },
    {
     "data": {
      "image/png": "[encoded data removed]",
      "text/plain": [
       "<Figure size 432x288 with 1 Axes>"
      ]
     },
     "metadata": {
      "needs_background": "light"
     },
     "output_type": "display_data"
    }
   ],
   "source": [
    "print(\"Number of ingredient grams per recipe\")\n",
    "encodings = np.stack(all_dfs_nutrient[\"ingredients_encoding\"])\n",
    "_ = plt.hist(np.sum(encodings, axis=1), bins=25)"
   ]
  },
  {
   "cell_type": "code",
   "execution_count": 4,
   "metadata": {},
   "outputs": [],
   "source": [
    "# This logic is in agg_data already\n",
    "check_intermediates = False\n",
    "if check_intermediates:\n",
    "    # Get top grams\n",
    "    top_unigram_cts, top_bigram_cts, gram2idx = choose_top_grams(all_dfs_nutrient)\n",
    "\n",
    "    # Plot top occurring ingredients (long tail unploted)\n",
    "    fig, axs = plt.subplots(2,1, sharex=True)\n",
    "    axs[0].set_xlim([0,250])\n",
    "    _ = axs[0].hist(top_unigram_cts.values(), bins=200)\n",
    "    _ = axs[1].hist(top_bigram_cts.values(), bins=200)\n",
    "\n",
    "    # Featurize ingredients\n",
    "    all_dfs_nutrient = featurize_ingredients(all_dfs_nutrient, gram2idx)"
   ]
  },
  {
   "cell_type": "code",
   "execution_count": 28,
   "metadata": {},
   "outputs": [
    {
     "name": "stdout",
     "output_type": "stream",
     "text": [
      "Using 498 unigrams that occur over 20 times\n",
      "Using 491 bigrams that occur over 20 times\n",
      "['</s>', 'in', 'for', 'that', 'is', 'on', '##', 'The', 'with', 'said', 'was', 'the', 'at', 'not', 'as', 'it', 'be', 'from', 'by', 'are', 'I', 'have', 'he', 'will', 'has', '####', 'his', 'an', 'this', 'or']\n",
      "616 of 989 grams mapped to an embedding\n"
     ]
    }
   ],
   "source": [
    "# Embed all uni/bigrams found in pretrained word2vec\n",
    "# top_unigram_cts, top_bigram_cts, gram2idx = choose_top_grams(all_dfs_nutrient)\n",
    "# print(top_bigram_cts.keys())\n",
    "gram_probs, gram2vec = choose_top_grams(all_dfs_nutrient)"
   ]
  },
  {
   "cell_type": "code",
   "execution_count": null,
   "metadata": {},
   "outputs": [],
   "source": [
    "# print(list(gram2vec.items())[:10])\n",
    "# len(gram2vec[\"beans\"])\n",
    "len(gram2vec), len(gram_probs)\n",
    "print(list(gram2vec.items())[0])"
   ]
  },
  {
   "cell_type": "code",
   "execution_count": 61,
   "metadata": {},
   "outputs": [],
   "source": [
    "all_dfs_nutrient = featurize_ingredients(all_dfs_nutrient, gram2vec, gram_probs)"
   ]
  },
  {
   "cell_type": "code",
   "execution_count": null,
   "metadata": {},
   "outputs": [],
   "source": [
    "all_dfs_nutrient[\"ingredients_encoding\"].iloc[0]"
   ]
  }
 ],
 "metadata": {
  "kernelspec": {
   "display_name": "Python 3",
   "language": "python",
   "name": "python3"
  },
  "language_info": {
   "codemirror_mode": {
    "name": "ipython",
    "version": 3
   },
   "file_extension": ".py",
   "mimetype": "text/x-python",
   "name": "python",
   "nbconvert_exporter": "python",
   "pygments_lexer": "ipython3",
   "version": "3.7.6"
  }
 },
 "nbformat": 4,
 "nbformat_minor": 4
}
