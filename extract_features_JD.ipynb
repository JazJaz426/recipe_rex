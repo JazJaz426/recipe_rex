{
 "cells": [
  {
   "cell_type": "code",
   "execution_count": 111,
   "metadata": {},
   "outputs": [
    {
     "name": "stdout",
     "output_type": "stream",
     "text": [
      "The autoreload extension is already loaded. To reload it, use:\n",
      "  %reload_ext autoreload\n"
     ]
    }
   ],
   "source": [
    "%load_ext autoreload\n",
    "%autoreload 2"
   ]
  },
  {
   "cell_type": "code",
   "execution_count": 124,
   "metadata": {},
   "outputs": [],
   "source": [
    "import pandas as pd\n",
    "import numpy as np\n",
    "from save_recipes import agg_data\n",
    "from featurize_ingredients import choose_top_grams, featurize_ingredients\n",
    "import matplotlib.pyplot as plt"
   ]
  },
  {
   "cell_type": "code",
   "execution_count": 125,
   "metadata": {},
   "outputs": [
    {
     "name": "stdout",
     "output_type": "stream",
     "text": [
      "60 datasets found\n"
     ]
    },
    {
     "name": "stderr",
     "output_type": "stream",
     "text": [
      "/Users/sleepearly/Projects/recipe_rex/save_recipes.py:24: YAMLLoadWarning: calling yaml.load() without Loader=... is deprecated, as the default Loader is unsafe. Please read https://msg.pyyaml.org/load for full details.\n",
      "  nutrient_df = pd.DataFrame(all_dfs['nutrients'].values.tolist(), index = all_dfs.index)\n"
     ]
    },
    {
     "name": "stdout",
     "output_type": "stream",
     "text": [
      "number of recipes 2046\n",
      "498 unigrams occur over 20 times\n",
      "491 bigrams occur over 20 times\n"
     ]
    },
    {
     "data": {
      "text/plain": [
       "Index(['title', 'author', 'url', 'cuisine', 'image_url', 'ingredients',\n",
       "       'instructions', 'language', 'ratings', 'reviews', 'site_name',\n",
       "       'total_time', 'yields', 'servingSize', 'calories',\n",
       "       'carbohydrateContent', 'proteinContent', 'fatContent',\n",
       "       'saturatedFatContent', 'cholesterolContent', 'sodiumContent',\n",
       "       'sugarContent', 'fiberContent', 'transFatContent',\n",
       "       'unsaturatedFatContent', 'ingredients_encoding'],\n",
       "      dtype='object')"
      ]
     },
     "execution_count": 125,
     "metadata": {},
     "output_type": "execute_result"
    }
   ],
   "source": [
    "all_dfs_nutrient = agg_data()\n",
    "all_dfs_nutrient.columns"
   ]
  },
  {
   "cell_type": "code",
   "execution_count": 116,
   "metadata": {},
   "outputs": [
    {
     "name": "stdout",
     "output_type": "stream",
     "text": [
      "498 unigrams occur over 20 times\n",
      "491 bigrams occur over 20 times\n"
     ]
    },
    {
     "data": {
      "image/png": "[encoded data removed]",
      "text/plain": [
       "<Figure size 432x288 with 2 Axes>"
      ]
     },
     "metadata": {
      "needs_background": "light"
     },
     "output_type": "display_data"
    }
   ],
   "source": [
    "# Get top grams\n",
    "top_unigram_cts, top_bigram_cts, gram2idx = choose_top_grams(all_dfs_nutrient)\n",
    "\n",
    "# Plot top occurring ingredients (long tail unploted)\n",
    "fig, axs = plt.subplots(2,1, sharex=True)\n",
    "axs[0].set_xlim([0,250])\n",
    "_ = axs[0].hist(top_unigram_cts.values(), bins=200)\n",
    "_ = axs[1].hist(top_bigram_cts.values(), bins=200)"
   ]
  },
  {
   "cell_type": "code",
   "execution_count": 123,
   "metadata": {},
   "outputs": [
    {
     "name": "stdout",
     "output_type": "stream",
     "text": [
      "Number of ingredient grams per recipe\n"
     ]
    },
    {
     "data": {
      "image/png": "[encoded data removed]",
      "text/plain": [
       "<Figure size 432x288 with 1 Axes>"
      ]
     },
     "metadata": {
      "needs_background": "light"
     },
     "output_type": "display_data"
    }
   ],
   "source": [
    "# Featurize ingredients\n",
    "all_dfs_nutrient = featurize_ingredients(all_dfs_nutrient, gram2idx)\n",
    "\n",
    "print(\"Number of ingredient grams per recipe\")\n",
    "encodings = np.stack(all_dfs_nutrient[\"ingredients_encoding\"])\n",
    "_ = plt.hist(np.sum(encodings, axis=1), bins=25)"
   ]
  }
 ],
 "metadata": {
  "kernelspec": {
   "display_name": "Python 3",
   "language": "python",
   "name": "python3"
  },
  "language_info": {
   "codemirror_mode": {
    "name": "ipython",
    "version": 3
   },
   "file_extension": ".py",
   "mimetype": "text/x-python",
   "name": "python",
   "nbconvert_exporter": "python",
   "pygments_lexer": "ipython3",
   "version": "3.7.6"
  }
 },
 "nbformat": 4,
 "nbformat_minor": 4
}
