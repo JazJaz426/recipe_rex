{
 "cells": [
  {
   "cell_type": "code",
   "execution_count": 20,
   "metadata": {},
   "outputs": [],
   "source": [
    "import streamlit as st\n",
    "# To make things easier later, we're also importing numpy and pandas for\n",
    "# working with sample data.\n",
    "import numpy as np\n",
    "import pandas as pd\n",
    "import random"
   ]
  },
  {
   "cell_type": "code",
   "execution_count": 21,
   "metadata": {},
   "outputs": [],
   "source": [
    "col1, col2, col3 = st.beta_columns(3)\n",
    "pics = [\"lumpia.jpg\", \"pho.jpg\", \"tofu.jpg\"]\n",
    "# random.shuffle(pics)\n",
    "picked = [False] * len(pics)\n",
    "\n",
    "with col1:\n",
    "    st.header(\"1.\")\n",
    "    st.image([pics[0]], use_column_width=True)\n",
    "    if st.checkbox('do u like this?'):\n",
    "        picked[0] = True\n",
    "\n",
    "with col2:\n",
    "    st.header(\"2.\")\n",
    "    st.image(pics[1], use_column_width=True)\n",
    "    if st.checkbox('what about this?'):\n",
    "        picked[1] = True\n",
    "\n",
    "with col3:\n",
    "    st.header(\"3.\")\n",
    "    st.image(pics[2], use_column_width=True)\n",
    "    if st.checkbox('dis?'):\n",
    "        picked[2] = True\n",
    "        \n",
    "if st.button('Done!'):\n",
    "    st.write('Loading ...')\n",
    "    st.header('Based on your choices, this is what we recommend!')\n",
    "\n",
    "    pics_picked = [pic for i, pic in enumerate(pics) if picked[i] == True]\n",
    "    st.image(pics_picked, use_column_width=100, caption=[\"some generic text\"] * len(pics_picked))"
   ]
  },
  {
   "cell_type": "code",
   "execution_count": 22,
   "metadata": {},
   "outputs": [
    {
     "name": "stdout",
     "output_type": "stream",
     "text": [
      "[]\n"
     ]
    },
    {
     "data": {
      "text/plain": [
       "<streamlit.delta_generator.DeltaGenerator at 0x7fe024d9dbb0>"
      ]
     },
     "execution_count": 22,
     "metadata": {},
     "output_type": "execute_result"
    }
   ],
   "source": []
  },
  {
   "cell_type": "code",
   "execution_count": null,
   "metadata": {},
   "outputs": [],
   "source": []
  },
  {
   "cell_type": "code",
   "execution_count": null,
   "metadata": {},
   "outputs": [],
   "source": []
  }
 ],
 "metadata": {
  "kernelspec": {
   "display_name": "Python 3",
   "language": "python",
   "name": "python3"
  },
  "language_info": {
   "codemirror_mode": {
    "name": "ipython",
    "version": 3
   },
   "file_extension": ".py",
   "mimetype": "text/x-python",
   "name": "python",
   "nbconvert_exporter": "python",
   "pygments_lexer": "ipython3",
   "version": "3.8.5"
  },
  "varInspector": {
   "cols": {
    "lenName": 16,
    "lenType": 16,
    "lenVar": 40
   },
   "kernels_config": {
    "python": {
     "delete_cmd_postfix": "",
     "delete_cmd_prefix": "del ",
     "library": "var_list.py",
     "varRefreshCmd": "print(var_dic_list())"
    },
    "r": {
     "delete_cmd_postfix": ") ",
     "delete_cmd_prefix": "rm(",
     "library": "var_list.r",
     "varRefreshCmd": "cat(var_dic_list()) "
    }
   },
   "types_to_exclude": [
    "module",
    "function",
    "builtin_function_or_method",
    "instance",
    "_Feature"
   ],
   "window_display": false
  }
 },
 "nbformat": 4,
 "nbformat_minor": 4
}
