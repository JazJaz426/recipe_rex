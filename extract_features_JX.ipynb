{
 "cells": [
  {
   "cell_type": "code",
   "execution_count": 9,
   "metadata": {},
   "outputs": [],
   "source": [
    "%load_ext autoreload\n",
    "%autoreload 2"
   ]
  },
  {
   "cell_type": "code",
   "execution_count": 65,
   "metadata": {},
   "outputs": [],
   "source": [
    "import pandas as pd\n",
    "from save_recipes import agg_data"
   ]
  },
  {
   "cell_type": "markdown",
   "metadata": {},
   "source": [
    "# Features\n",
    "- Presence of ingredient (0/1)\n",
    "- % nutrient (e.g. fat)\n",
    "\n",
    "# Preprocessing\n",
    "- Map all ingredients to a unique index\n",
    "\n",
    "- Map nutrient info to a category (high fat, high carb)\n",
    "\n",
    "- Map total time to category (fast, medium, slow)\n",
    "\n",
    "- Map cuisine to a unique index\n",
    "\n",
    "# Visualization\n",
    "- NA data distribution\n",
    "\n",
    "- Ingredients distribution\n",
    "\n",
    "- Time distribution by dataset\n",
    "\n",
    "- Nutrient info by dataset\n",
    "\n",
    "- Clustering, compared to title names"
   ]
  },
  {
   "cell_type": "code",
   "execution_count": 100,
   "metadata": {},
   "outputs": [
    {
     "name": "stdout",
     "output_type": "stream",
     "text": [
      "60 datasets found\n",
      "save_recipes.py:22: YAMLLoadWarning: calling yaml.load() without Loader=... is deprecated, as the default Loader is unsafe. Please read https://msg.pyyaml.org/load for full details.\n",
      "  all_dfs['nutrients'] = all_dfs['nutrients'].apply(lambda x: yaml.load(x))\n"
     ]
    }
   ],
   "source": [
    "!python save_recipes.py"
   ]
  },
  {
   "cell_type": "code",
   "execution_count": 97,
   "metadata": {},
   "outputs": [
    {
     "name": "stdout",
     "output_type": "stream",
     "text": [
      "60 datasets found\n"
     ]
    },
    {
     "name": "stderr",
     "output_type": "stream",
     "text": [
      "/Users/justinxu/recipe_rex/save_recipes.py:22: YAMLLoadWarning: calling yaml.load() without Loader=... is deprecated, as the default Loader is unsafe. Please read https://msg.pyyaml.org/load for full details.\n",
      "  all_dfs['nutrients'] = all_dfs['nutrients'].apply(lambda x: yaml.load(x))\n"
     ]
    }
   ],
   "source": [
    "all_dfs_nutrient = agg_data()"
   ]
  },
  {
   "cell_type": "code",
   "execution_count": 98,
   "metadata": {},
   "outputs": [
    {
     "data": {
      "text/plain": [
       "Index(['title', 'author', 'url', 'cuisine', 'image_url', 'ingredients',\n",
       "       'instructions', 'language', 'ratings', 'reviews', 'site_name',\n",
       "       'total_time', 'yields', 'servingSize', 'calories',\n",
       "       'carbohydrateContent', 'proteinContent', 'fatContent',\n",
       "       'saturatedFatContent', 'cholesterolContent', 'sodiumContent',\n",
       "       'sugarContent', 'fiberContent', 'transFatContent',\n",
       "       'unsaturatedFatContent'],\n",
       "      dtype='object')"
      ]
     },
     "execution_count": 98,
     "metadata": {},
     "output_type": "execute_result"
    }
   ],
   "source": [
    "all_dfs_nutrient.columns"
   ]
  },
  {
   "cell_type": "code",
   "execution_count": 99,
   "metadata": {},
   "outputs": [
    {
     "data": {
      "text/html": [
       "<div>\n",
       "<style scoped>\n",
       "    .dataframe tbody tr th:only-of-type {\n",
       "        vertical-align: middle;\n",
       "    }\n",
       "\n",
       "    .dataframe tbody tr th {\n",
       "        vertical-align: top;\n",
       "    }\n",
       "\n",
       "    .dataframe thead th {\n",
       "        text-align: right;\n",
       "    }\n",
       "</style>\n",
       "<table border=\"1\" class=\"dataframe\">\n",
       "  <thead>\n",
       "    <tr style=\"text-align: right;\">\n",
       "      <th></th>\n",
       "      <th>carbohydrateContent</th>\n",
       "      <th>proteinContent</th>\n",
       "      <th>fatContent</th>\n",
       "      <th>saturatedFatContent</th>\n",
       "      <th>cholesterolContent</th>\n",
       "      <th>sodiumContent</th>\n",
       "      <th>sugarContent</th>\n",
       "      <th>fiberContent</th>\n",
       "      <th>transFatContent</th>\n",
       "      <th>unsaturatedFatContent</th>\n",
       "    </tr>\n",
       "  </thead>\n",
       "  <tbody>\n",
       "    <tr>\n",
       "      <th>0</th>\n",
       "      <td>10 g</td>\n",
       "      <td>49 g</td>\n",
       "      <td>12 g</td>\n",
       "      <td>4 g</td>\n",
       "      <td>144 mg</td>\n",
       "      <td>803 mg</td>\n",
       "      <td>5 g</td>\n",
       "      <td>NaN</td>\n",
       "      <td>NaN</td>\n",
       "      <td>NaN</td>\n",
       "    </tr>\n",
       "    <tr>\n",
       "      <th>1</th>\n",
       "      <td>108 g</td>\n",
       "      <td>33 g</td>\n",
       "      <td>71 g</td>\n",
       "      <td>25 g</td>\n",
       "      <td>252 mg</td>\n",
       "      <td>2803 mg</td>\n",
       "      <td>28 g</td>\n",
       "      <td>4 g</td>\n",
       "      <td>NaN</td>\n",
       "      <td>NaN</td>\n",
       "    </tr>\n",
       "    <tr>\n",
       "      <th>2</th>\n",
       "      <td>9 g</td>\n",
       "      <td>43 g</td>\n",
       "      <td>32 g</td>\n",
       "      <td>9 g</td>\n",
       "      <td>163 mg</td>\n",
       "      <td>1838 mg</td>\n",
       "      <td>6 g</td>\n",
       "      <td>NaN</td>\n",
       "      <td>NaN</td>\n",
       "      <td>NaN</td>\n",
       "    </tr>\n",
       "    <tr>\n",
       "      <th>3</th>\n",
       "      <td>1 g</td>\n",
       "      <td>NaN</td>\n",
       "      <td>NaN</td>\n",
       "      <td>NaN</td>\n",
       "      <td>NaN</td>\n",
       "      <td>1 mg</td>\n",
       "      <td>NaN</td>\n",
       "      <td>NaN</td>\n",
       "      <td>NaN</td>\n",
       "      <td>NaN</td>\n",
       "    </tr>\n",
       "    <tr>\n",
       "      <th>4</th>\n",
       "      <td>35.44 g</td>\n",
       "      <td>22.14 g</td>\n",
       "      <td>22.35 g</td>\n",
       "      <td>12.11 g</td>\n",
       "      <td>109.79 mg</td>\n",
       "      <td>1536.84 mg</td>\n",
       "      <td>6.68 g</td>\n",
       "      <td>5.62 g</td>\n",
       "      <td>NaN</td>\n",
       "      <td>NaN</td>\n",
       "    </tr>\n",
       "    <tr>\n",
       "      <th>...</th>\n",
       "      <td>...</td>\n",
       "      <td>...</td>\n",
       "      <td>...</td>\n",
       "      <td>...</td>\n",
       "      <td>...</td>\n",
       "      <td>...</td>\n",
       "      <td>...</td>\n",
       "      <td>...</td>\n",
       "      <td>...</td>\n",
       "      <td>...</td>\n",
       "    </tr>\n",
       "    <tr>\n",
       "      <th>2783</th>\n",
       "      <td>45 g</td>\n",
       "      <td>19 g</td>\n",
       "      <td>19 g</td>\n",
       "      <td>6 g</td>\n",
       "      <td>36 mg</td>\n",
       "      <td>785 mg</td>\n",
       "      <td>4 g</td>\n",
       "      <td>3 g</td>\n",
       "      <td>NaN</td>\n",
       "      <td>NaN</td>\n",
       "    </tr>\n",
       "    <tr>\n",
       "      <th>2784</th>\n",
       "      <td>27 g</td>\n",
       "      <td>27 g</td>\n",
       "      <td>21 g</td>\n",
       "      <td>6 g</td>\n",
       "      <td>74 mg</td>\n",
       "      <td>545 mg</td>\n",
       "      <td>6 g</td>\n",
       "      <td>5 g</td>\n",
       "      <td>NaN</td>\n",
       "      <td>NaN</td>\n",
       "    </tr>\n",
       "    <tr>\n",
       "      <th>2785</th>\n",
       "      <td>21 g</td>\n",
       "      <td>21 g</td>\n",
       "      <td>8 g</td>\n",
       "      <td>1 g</td>\n",
       "      <td>51 mg</td>\n",
       "      <td>858 mg</td>\n",
       "      <td>5 g</td>\n",
       "      <td>5 g</td>\n",
       "      <td>NaN</td>\n",
       "      <td>NaN</td>\n",
       "    </tr>\n",
       "    <tr>\n",
       "      <th>2786</th>\n",
       "      <td>4 g</td>\n",
       "      <td>20 g</td>\n",
       "      <td>38 g</td>\n",
       "      <td>12 g</td>\n",
       "      <td>83 mg</td>\n",
       "      <td>478 mg</td>\n",
       "      <td>1 g</td>\n",
       "      <td>1 g</td>\n",
       "      <td>NaN</td>\n",
       "      <td>NaN</td>\n",
       "    </tr>\n",
       "    <tr>\n",
       "      <th>2787</th>\n",
       "      <td>32 g</td>\n",
       "      <td>30 g</td>\n",
       "      <td>33 g</td>\n",
       "      <td>15 g</td>\n",
       "      <td>85 mg</td>\n",
       "      <td>894 mg</td>\n",
       "      <td>8 g</td>\n",
       "      <td>3 g</td>\n",
       "      <td>NaN</td>\n",
       "      <td>NaN</td>\n",
       "    </tr>\n",
       "  </tbody>\n",
       "</table>\n",
       "<p>2788 rows × 10 columns</p>\n",
       "</div>"
      ],
      "text/plain": [
       "     carbohydrateContent proteinContent fatContent saturatedFatContent  \\\n",
       "0                   10 g           49 g       12 g                 4 g   \n",
       "1                  108 g           33 g       71 g                25 g   \n",
       "2                    9 g           43 g       32 g                 9 g   \n",
       "3                    1 g            NaN        NaN                 NaN   \n",
       "4                35.44 g        22.14 g    22.35 g             12.11 g   \n",
       "...                  ...            ...        ...                 ...   \n",
       "2783                45 g           19 g       19 g                 6 g   \n",
       "2784                27 g           27 g       21 g                 6 g   \n",
       "2785                21 g           21 g        8 g                 1 g   \n",
       "2786                 4 g           20 g       38 g                12 g   \n",
       "2787                32 g           30 g       33 g                15 g   \n",
       "\n",
       "     cholesterolContent sodiumContent sugarContent fiberContent  \\\n",
       "0                144 mg        803 mg          5 g          NaN   \n",
       "1                252 mg       2803 mg         28 g          4 g   \n",
       "2                163 mg       1838 mg          6 g          NaN   \n",
       "3                   NaN          1 mg          NaN          NaN   \n",
       "4             109.79 mg    1536.84 mg       6.68 g       5.62 g   \n",
       "...                 ...           ...          ...          ...   \n",
       "2783              36 mg        785 mg          4 g          3 g   \n",
       "2784              74 mg        545 mg          6 g          5 g   \n",
       "2785              51 mg        858 mg          5 g          5 g   \n",
       "2786              83 mg        478 mg          1 g          1 g   \n",
       "2787              85 mg        894 mg          8 g          3 g   \n",
       "\n",
       "     transFatContent unsaturatedFatContent  \n",
       "0                NaN                   NaN  \n",
       "1                NaN                   NaN  \n",
       "2                NaN                   NaN  \n",
       "3                NaN                   NaN  \n",
       "4                NaN                   NaN  \n",
       "...              ...                   ...  \n",
       "2783             NaN                   NaN  \n",
       "2784             NaN                   NaN  \n",
       "2785             NaN                   NaN  \n",
       "2786             NaN                   NaN  \n",
       "2787             NaN                   NaN  \n",
       "\n",
       "[2788 rows x 10 columns]"
      ]
     },
     "execution_count": 99,
     "metadata": {},
     "output_type": "execute_result"
    }
   ],
   "source": [
    "nutrient_cols = [c for c in all_dfs_nutrient.columns if 'Content' in c]\n",
    "all_dfs_nutrient[nutrient_cols]"
   ]
  },
  {
   "cell_type": "code",
   "execution_count": 92,
   "metadata": {},
   "outputs": [
    {
     "data": {
      "text/plain": [
       "0        10 g\n",
       "1       108 g\n",
       "2         9 g\n",
       "3         1 g\n",
       "4     35.44 g\n",
       "       ...   \n",
       "7        45 g\n",
       "8        27 g\n",
       "9        21 g\n",
       "10        4 g\n",
       "11       32 g\n",
       "Name: carbohydrateContent, Length: 2788, dtype: object"
      ]
     },
     "execution_count": 92,
     "metadata": {},
     "output_type": "execute_result"
    }
   ],
   "source": [
    "all_dfs_nutrient['carbohydrateContent']"
   ]
  }
 ],
 "metadata": {
  "kernelspec": {
   "display_name": "Python 3",
   "language": "python",
   "name": "python3"
  },
  "language_info": {
   "codemirror_mode": {
    "name": "ipython",
    "version": 3
   },
   "file_extension": ".py",
   "mimetype": "text/x-python",
   "name": "python",
   "nbconvert_exporter": "python",
   "pygments_lexer": "ipython3",
   "version": "3.8.5"
  }
 },
 "nbformat": 4,
 "nbformat_minor": 4
}
